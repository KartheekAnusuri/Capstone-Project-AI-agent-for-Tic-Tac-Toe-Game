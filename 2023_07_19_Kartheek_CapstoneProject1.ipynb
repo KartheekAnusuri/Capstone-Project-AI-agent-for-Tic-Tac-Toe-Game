{
  "nbformat": 4,
  "nbformat_minor": 0,
  "metadata": {
    "colab": {
      "provenance": [],
      "toc_visible": true,
      "include_colab_link": true
    },
    "kernelspec": {
      "name": "python3",
      "display_name": "Python 3"
    }
  },
  "cells": [
    {
      "cell_type": "markdown",
      "metadata": {
        "id": "view-in-github",
        "colab_type": "text"
      },
      "source": [
        "<a href=\"https://colab.research.google.com/github/KartheekAnusuri/Capstone-Project-AI-agent-for-Tic-Tac-Toe-Game/blob/main/2023_07_19_Kartheek_CapstoneProject1.ipynb\" target=\"_parent\"><img src=\"https://colab.research.google.com/assets/colab-badge.svg\" alt=\"Open In Colab\"/></a>"
      ]
    },
    {
      "cell_type": "markdown",
      "metadata": {
        "id": "MR--Oyr-kVT4"
      },
      "source": [
        "# Capstone Project: AI agent for Tic-Tac-Toe Game"
      ]
    },
    {
      "cell_type": "markdown",
      "metadata": {
        "id": "pW4TJ9m_Me3e"
      },
      "source": [
        "---"
      ]
    },
    {
      "cell_type": "markdown",
      "metadata": {
        "id": "qTT7OxFwwQ4u"
      },
      "source": [
        "### Context\n",
        "\n",
        "We often come in a situation where we have to evaluate our performance with respect to other participants. This is mostly the case when we are competing in the games or competition. In the case of algorithmic strategy, this is true. To solve a problem there may be more than one solution. To choose one we have to make a comparison between them. We have to make a quantitative analysis of our algorithm or strategy and then chose one. Games give the best platform for this in Artificial Intelligence as we have points to calculate our performance.  "
      ]
    },
    {
      "cell_type": "markdown",
      "metadata": {
        "id": "k_UiXxN9wRnH"
      },
      "source": [
        "---"
      ]
    },
    {
      "cell_type": "markdown",
      "metadata": {
        "id": "mVs2g1_eklkU"
      },
      "source": [
        "### Problem Statement\n",
        "\n",
        "In this project, you have to program a simple AI agent that could beat random strategy in the game of **Tic-Tac-Toe**. Tic-Tac-Toe is a widely played game all over the world. Tic-Tac-Toe is a two-player game that is played on a 3 by 3 grid. Each player takes a turn in marking $X$ and $O$.  The player who succeeds in placing three of their marks in a diagonal, horizontal, or vertical row is the winner.\n",
        "\n",
        "Below is the link on how to play tic-tac-toe:\n",
        "\n",
        "[How to Play Tic-Tac-Toe](https://www.wikihow.com/Play-Tic-Tac-Toe)\n",
        "\n",
        "**Player Input Format:**\n",
        "\n",
        "A player should play his/her move by entering the numbers 1 or 2 where:\n",
        "\n",
        "- $1$ denotes $X$.\n",
        "\n",
        "- $2$ denotes $O$.\n"
      ]
    },
    {
      "cell_type": "markdown",
      "metadata": {
        "id": "ArwpzsEiKjTd"
      },
      "source": [
        "---"
      ]
    },
    {
      "cell_type": "markdown",
      "metadata": {
        "id": "q9c9sjJGybaD"
      },
      "source": [
        "### Things To Do\n",
        "\n",
        "1. Create the `empty_positions()` Function.\n",
        "\n",
        "2. Create the `evaluate()` Function.\n",
        "\n",
        "3. Play with random strategy for both players.\n",
        "\n",
        "4. Play with random strategy for player2 and AI bot strategy for player1.\n"
      ]
    },
    {
      "cell_type": "markdown",
      "metadata": {
        "id": "6Ww9LZu-yagf"
      },
      "source": [
        "---"
      ]
    },
    {
      "cell_type": "markdown",
      "metadata": {
        "id": "vN9i6Ij7M4RS"
      },
      "source": [
        "### Strategy\n",
        "\n",
        "**Random Strategy:**\n",
        "\n",
        "As the name suggests random strategy is just marking at any random square in the $3 \\times 3$ grid. A player first looks out for all possible squares where he can mark $X$ or $O$ as mutually decided by the players.\n",
        "\n",
        "Example:\n",
        "\n",
        "Player 2 move: 2 2\n",
        "\n",
        "Player 1 move: 2 1\n",
        "\n",
        "Player 2 move: 1 0\n",
        "\n",
        "Player 1 move: 0 0\n",
        "\n",
        "Player 2 move: 0 2\n",
        "\n",
        "Player 1 move: 1 1\n",
        "\n",
        "Player 2 move: 0 1\n",
        "\n",
        "Player 1 move: 1 2\n",
        "\n",
        "Player 2 move: 2 0\n",
        "\n",
        "In above game we can observe that there is no specific strategy by any player. They are just selecting any random square. Even if some moves increase their chance of winning, as can be observed by us.\n",
        "\n",
        "**AI Bot:**\n",
        "\n",
        "We come up with an algorithm where the player will mark at the center square if it is empty. This will always be the case if he is having the first attempt. If the player is having a second attempt, this will be the case when another player has not marked the center square.\n",
        "\n",
        "Player 1 move: 1 1\n",
        "\n",
        "Player 2 move: 0 0\n",
        "\n",
        "Player 1 move: 2 0\n",
        "\n",
        "Player 2 move: 0 1\n",
        "\n",
        "Player 1 move: 2 1\n",
        "\n",
        "Player 2 move: 1 2\n",
        "\n",
        "Player 1 move: 2 2\n",
        "\n",
        "Player 1 wins\n",
        "\n",
        "In above game we can observe that marking at center square increase the chances of AI bot to win the game.\n",
        "\n"
      ]
    },
    {
      "cell_type": "markdown",
      "metadata": {
        "id": "y3oYWuPTK8hc"
      },
      "source": [
        "**Q:** Can you think of any other such strategy (Algorithm) for AI bot?\n",
        "\n",
        "**A:**"
      ]
    },
    {
      "cell_type": "markdown",
      "metadata": {
        "id": "-JZIK-nBorVE"
      },
      "source": [
        "---"
      ]
    },
    {
      "cell_type": "markdown",
      "metadata": {
        "id": "lj7FafjdosS-"
      },
      "source": [
        "### Gameplay\n",
        "\n",
        "In this project, you have to play Tic-Tac-Toe $100$ times. Each player will get a chance to play the first move if he/she loses. Each game can end with either of the following three outcomes:\n",
        "- Player1 wins: Player1 will get three of his marks ($1$) in a diagonal, horizontal, or vertical row.\n",
        "- Player2 wins: Player2 will get three of his marks ($2$) in a diagonal, horizontal, or vertical row.\n",
        "- Draw: Neither of the players can get three of their marks in a diagonal, horizontal, or vertical row till all squares are marked.\n",
        "\n"
      ]
    },
    {
      "cell_type": "markdown",
      "metadata": {
        "id": "lTxR8fcMyIXV"
      },
      "source": [
        "---"
      ]
    },
    {
      "cell_type": "markdown",
      "metadata": {
        "id": "6fF4qO9qTaIg"
      },
      "source": [
        "#### Getting Started\n",
        "\n",
        "Follow the steps described below to solve the project:\n",
        "\n",
        "1. Click on the link provided below to open the Colab file for this project.\n",
        "   \n",
        "   https://colab.research.google.com/drive/19UnY1KY19BAYLF3PDEAED37MoRitcX8Z?usp=sharing\n",
        "\n",
        "2. Create the duplicate copy of the Colab file. Here are the steps to create the duplicate copy:\n",
        "\n",
        "    - Click on the **File** menu. A new drop-down list will appear.\n",
        "\n",
        "      <img src='https://student-datasets-bucket.s3.ap-south-1.amazonaws.com/images/project-share-images/0_file_menu.png' width=500>\n",
        "\n",
        "    - Click on the **Save a copy in Drive** option. A duplicate copy will get created. It will open up in the new tab on your web browser.\n",
        "\n",
        "      <img src='https://student-datasets-bucket.s3.ap-south-1.amazonaws.com/images/project-share-images/1_create_colab_duplicate_copy.png' width=500>\n",
        "\n",
        "     - After creating the duplicate copy of the notebook, please rename it in the **YYYY-MM-DD_StudentName_CapstoneProject1** format.\n",
        "\n",
        "3. Now, write your code in the prescribed code cells."
      ]
    },
    {
      "cell_type": "markdown",
      "metadata": {
        "id": "F9hyrueTTiLm"
      },
      "source": [
        "---"
      ]
    },
    {
      "cell_type": "markdown",
      "metadata": {
        "id": "58seWSwFyM8g"
      },
      "source": [
        "### Game Requirements\n",
        "\n",
        "To make this game, you have to create:\n",
        "\n",
        "- A $3\\times3$  `tic_tac_toe` 2D list.\n",
        "\n",
        "- 1D list `positions` to return the list of empty positions.\n",
        "\n",
        "- `empty_positions()` function to check for all empty positions.\n",
        "\n",
        "- `evaluate()` function to check whether the game has reached any conclusion or not.\n",
        "\n",
        "- `player1_wins`, `player2_wins`, and `draw` variables to keep track of the number of wins by each player.\n",
        "\n",
        "- A`player` variable keeps track of the player moves, to show which player has to make his move.\n",
        "\n"
      ]
    },
    {
      "cell_type": "markdown",
      "metadata": {
        "id": "AnfN-CWj0I6i"
      },
      "source": [
        "---"
      ]
    },
    {
      "cell_type": "markdown",
      "metadata": {
        "id": "zhTnWWIp0KeU"
      },
      "source": [
        "#### 1. Create the `empty_positions()` Function\n",
        "\n",
        "Create the `empty_positions()` Function such that:\n",
        "- The `empty_positions()` function will take `tic_tac_toe`, a two dimensional list as input, and return all the positions which are not marked.\n",
        "\n",
        "- All the empty positions are marked with $0$.\n",
        "\n",
        "- The `position` list will have two values for each of its elements, row and column respectively. It will collect all the rows and cloumns which are empty(marked with $0$).\n",
        "\n",
        "- Iterates over all the positions and return the `positions` list.\n"
      ]
    },
    {
      "cell_type": "markdown",
      "metadata": {
        "id": "Yrqqt53-1Umq"
      },
      "source": [
        "---"
      ]
    },
    {
      "cell_type": "code",
      "metadata": {
        "id": "rg4a1Yo0LGSZ"
      },
      "source": [
        "# Look out for all empty positions and return empty positions\n",
        "\n",
        "def empty_positions(tic_tac_toe):\n",
        "  # declare the position list.\n",
        "    positions = []\n",
        "   # use for loop to iterate over all the positions and return rows and columns of empty cells.\n",
        "    for row in range(len(tic_tac_toe)):\n",
        "        for col in range(len(tic_tac_toe[row])):\n",
        "            if tic_tac_toe[row][col] == 0:\n",
        "                positions.append([row, col])\n",
        "    return positions"
      ],
      "execution_count": null,
      "outputs": []
    },
    {
      "cell_type": "markdown",
      "metadata": {
        "id": "Rt17cuy61X4g"
      },
      "source": [
        "#### 2. Create the `evaluate()` Function\n",
        "Create the `evaluate()` Function such that:\n",
        "\n",
        "- The `evaluate()` function returns $1$ if player1 wins for the current position of the game after checking for all possible winning conditions.\n",
        "\n",
        "- The `evaluate()` function returns $2$ if player2 wins for the current position of the game after checking for all possible winning conditions.\n",
        "\n",
        "- The `evaluate()` function returns $0$ if none of the players win for the current position of the game after checking for all possible winning conditions."
      ]
    },
    {
      "cell_type": "code",
      "metadata": {
        "id": "R99yhIKbUA9I"
      },
      "source": [
        "#Evaluate weather we have reached any conclusion or not\n",
        "def evaluate(tic_tac_toe):\n",
        "    # Check rows\n",
        "    for row in tic_tac_toe:\n",
        "        if row.count(1) == 3:\n",
        "            return 1\n",
        "        elif row.count(2) == 3:\n",
        "            return 2\n",
        "\n",
        "    # Check columns\n",
        "    for col in range(3):\n",
        "        if tic_tac_toe[0][col] == tic_tac_toe[1][col] == tic_tac_toe[2][col] == 1:\n",
        "            return 1\n",
        "        elif tic_tac_toe[0][col] == tic_tac_toe[1][col] == tic_tac_toe[2][col] == 2:\n",
        "            return 2\n",
        "\n",
        "    # Check diagonals\n",
        "    if tic_tac_toe[0][0] == tic_tac_toe[1][1] == tic_tac_toe[2][2] == 1:\n",
        "        return 1\n",
        "    elif tic_tac_toe[0][0] == tic_tac_toe[1][1] == tic_tac_toe[2][2] == 2:\n",
        "        return 2\n",
        "\n",
        "    if tic_tac_toe[0][2] == tic_tac_toe[1][1] == tic_tac_toe[2][0] == 1:\n",
        "        return 1\n",
        "    elif tic_tac_toe[0][2] == tic_tac_toe[1][1] == tic_tac_toe[2][0] == 2:\n",
        "        return 2\n",
        "\n",
        "    # No winner\n",
        "    return 0"
      ],
      "execution_count": null,
      "outputs": []
    },
    {
      "cell_type": "markdown",
      "metadata": {
        "id": "6REAJBQa28xU"
      },
      "source": [
        "---"
      ]
    },
    {
      "cell_type": "markdown",
      "metadata": {
        "id": "Jw3yMaNf3a3Q"
      },
      "source": [
        "#### 3. Play with random strategy for both players.\n",
        "\n",
        "In the following cell play Tic-Tac-Toe $100$ times and check for the number of wins for each player using the Random Algorithm. To do so follow the steps here:\n",
        "\n",
        "\n",
        "\n",
        "1. Make two-dimensional list `tic-tac-toe` containing all zeros.\n",
        "\n",
        "2. Check for empty positions.\n",
        "\n",
        "3. Create a condition such that, player1 marks 1 and player2 marks 2 randomly on empty positions till either one of the player wins or all empty positions are marked and it is a draw.\n",
        "\n",
        "4. Create another condition such that, player1 makes the first move in game one. In later games, the losing player makes the first move\n",
        "\n",
        "5. Print the number of wins for each player at the end."
      ]
    },
    {
      "cell_type": "code",
      "metadata": {
        "id": "kYtgGf8NPB8k"
      },
      "source": [
        "#Import random Module\n",
        "import random\n",
        "\n",
        "def play_tic_tac_toe():\n",
        "    tic_tac_toe = [[0, 0, 0] for _ in range(3)]\n",
        "    player = 1  # Player 1 starts first\n",
        "    winner = 0\n",
        "\n",
        "    while True:\n",
        "        empty_positions = []\n",
        "        for row in range(3):\n",
        "            for col in range(3):\n",
        "                if tic_tac_toe[row][col] == 0:\n",
        "                    empty_positions.append((row, col))\n",
        "\n",
        "        if not empty_positions or winner != 0:\n",
        "            break\n",
        "\n",
        "        if player == 1:\n",
        "            move = random.choice(empty_positions)\n",
        "            tic_tac_toe[move[0]][move[1]] = 1\n",
        "            winner = evaluate(tic_tac_toe)\n",
        "            player = 2\n",
        "        else:\n",
        "            move = random.choice(empty_positions)\n",
        "            tic_tac_toe[move[0]][move[1]] = 2\n",
        "            winner = evaluate(tic_tac_toe)\n",
        "            player = 1\n",
        "\n",
        "    return winner\n",
        "\n",
        "player1_wins = 0\n",
        "player2_wins = 0\n",
        "\n",
        "for _ in range(100):\n",
        "    winner = play_tic_tac_toe()\n",
        "    if winner == 1:\n",
        "        player1_wins += 1\n",
        "    elif winner == 2:\n",
        "        player2_wins += 1"
      ],
      "execution_count": null,
      "outputs": []
    },
    {
      "cell_type": "code",
      "metadata": {
        "id": "G4xxibED5r_c",
        "colab": {
          "base_uri": "https://localhost:8080/"
        },
        "outputId": "d8acb301-3f11-4758-8f69-a7ec93f44d17"
      },
      "source": [
        "# Print the number of wins and loses by respective players\n",
        "print(\"Number of wins for Player 1:\", player1_wins)\n",
        "print(\"Number of wins for Player 2:\", player2_wins)"
      ],
      "execution_count": null,
      "outputs": [
        {
          "output_type": "stream",
          "name": "stdout",
          "text": [
            "Number of wins for Player 1: 55\n",
            "Number of wins for Player 2: 26\n"
          ]
        }
      ]
    },
    {
      "cell_type": "markdown",
      "metadata": {
        "id": "SrrmvjT8MS7e"
      },
      "source": [
        "**Q:** Repeat the above experiment few more times (run code cells) and observe the answers. What observation do you make?\n",
        "\n",
        "**A:** The more time we run the code the different outputs we will get sometimes Player 1 wins and sometimes Player 2 wins.\n"
      ]
    },
    {
      "cell_type": "markdown",
      "metadata": {
        "id": "OeNVKUn_5uhf"
      },
      "source": [
        "#### 4. Play with random strategy for player2 and AI bot strategy for player1.\n",
        "\n",
        "Now, you will have to change the strategy for `player1` as we want the bot to beat the random strategy.\n",
        "\n",
        "In the below cell play Tic-Tac-Toe $100$ times and check for the number of wins for `player1` using AI Bot Algorithm against `player2` with Random Algorithm.\n",
        "\n",
        "1. Make a two-dimensional list containing all zeros.\n",
        "\n",
        "2. Check for empty positions.\n",
        "\n",
        "3. Create a condition such that, player1 marks $1$ as per AI bot algorithm and player2 marks $2$ randomly on empty positions till either one of the player wins or all empty positions are marked and it is a draw.\n",
        "\n",
        "4. Create another condition such that, player1 makes the first move in game one. In later games, the losing player makes the first move.\n",
        "\n",
        "5. Print the number of wins for each player."
      ]
    },
    {
      "cell_type": "code",
      "metadata": {
        "id": "aIFB_J0BZ3RD"
      },
      "source": [
        "\n",
        "import random\n",
        "\n",
        "def ai_bot_move(tic_tac_toe):\n",
        "    # Check for possible winning moves for player1 (AI bot)\n",
        "    for row in range(3):\n",
        "        if tic_tac_toe[row].count(1) == 2 and tic_tac_toe[row].count(0) == 1:\n",
        "            col = tic_tac_toe[row].index(0)\n",
        "            return row, col\n",
        "\n",
        "    for col in range(3):\n",
        "        column = [tic_tac_toe[row][col] for row in range(3)]\n",
        "        if column.count(1) == 2 and column.count(0) == 1:\n",
        "            row = column.index(0)\n",
        "            return row, col\n",
        "\n",
        "    if tic_tac_toe[0][0] == tic_tac_toe[1][1] == 1 and tic_tac_toe[2][2] == 0:\n",
        "        return 2, 2\n",
        "    elif tic_tac_toe[0][0] == tic_tac_toe[2][2] == 1 and tic_tac_toe[1][1] == 0:\n",
        "        return 1, 1\n",
        "    elif tic_tac_toe[1][1] == tic_tac_toe[2][2] == 1 and tic_tac_toe[0][0] == 0:\n",
        "        return 0, 0\n",
        "\n",
        "    if tic_tac_toe[0][2] == tic_tac_toe[1][1] == 1 and tic_tac_toe[2][0] == 0:\n",
        "        return 2, 0\n",
        "    elif tic_tac_toe[0][2] == tic_tac_toe[2][0] == 1 and tic_tac_toe[1][1] == 0:\n",
        "        return 1, 1\n",
        "    elif tic_tac_toe[1][1] == tic_tac_toe[2][0] == 1 and tic_tac_toe[0][2] == 0:\n",
        "        return 0, 2\n",
        "\n",
        "    # No winning moves, make a random move\n",
        "    empty_positions = []\n",
        "    for row in range(3):\n",
        "        for col in range(3):\n",
        "            if tic_tac_toe[row][col] == 0:\n",
        "                empty_positions.append((row, col))\n",
        "    return random.choice(empty_positions)\n",
        "\n",
        "def play_tic_tac_toe():\n",
        "    tic_tac_toe = [[0, 0, 0] for _ in range(3)]\n",
        "    player = 1  # Player 1 starts first\n",
        "    winner = 0\n",
        "\n",
        "    while True:\n",
        "        empty_positions = []\n",
        "        for row in range(3):\n",
        "            for col in range(3):\n",
        "                if tic_tac_toe[row][col] == 0:\n",
        "                    empty_positions.append((row, col))\n",
        "\n",
        "        if not empty_positions or winner != 0:\n",
        "            break\n",
        "\n",
        "        if player == 1:\n",
        "            move = ai_bot_move(tic_tac_toe)\n",
        "            tic_tac_toe[move[0]][move[1]] = 1\n",
        "            winner = evaluate(tic_tac_toe)\n",
        "            player = 2\n",
        "        else:\n",
        "            move = random.choice(empty_positions)\n",
        "            tic_tac_toe[move[0]][move[1]] = 2\n",
        "            winner = evaluate(tic_tac_toe)\n",
        "            player = 1\n",
        "\n",
        "    return winner\n",
        "\n",
        "player1_wins = 0\n",
        "player2_wins = 0\n",
        "\n",
        "for _ in range(100):\n",
        "    winner = play_tic_tac_toe()\n",
        "    if winner == 1:\n",
        "        player1_wins += 1\n",
        "    elif winner == 2:\n",
        "        player2_wins += 1\n"
      ],
      "execution_count": null,
      "outputs": []
    },
    {
      "cell_type": "code",
      "source": [
        "# Print the number of wins and loses by respective players\n",
        "print(\"Number of wins for Player 1 (AI Bot):\", player1_wins)\n",
        "print(\"Number of wins for Player 2 (Random):\", player2_wins)"
      ],
      "metadata": {
        "colab": {
          "base_uri": "https://localhost:8080/"
        },
        "id": "87smRrUX3dTJ",
        "outputId": "e85a45de-4cd9-480f-b8b4-d9e6a9afa228"
      },
      "execution_count": null,
      "outputs": [
        {
          "output_type": "stream",
          "name": "stdout",
          "text": [
            "Number of wins for Player 1 (AI Bot): 82\n",
            "Number of wins for Player 2 (Random): 13\n"
          ]
        }
      ]
    },
    {
      "cell_type": "markdown",
      "metadata": {
        "id": "GBlpJF7nNC4v"
      },
      "source": [
        "**Q:** Repeat the above experiment few more times (run code cells) and share your observations/findings?\n",
        "\n",
        "**A:**  The more time we run the code the different outputs we will get sometimes Player 1 wins and sometimes Player 2 wins."
      ]
    },
    {
      "cell_type": "markdown",
      "metadata": {
        "id": "C5bFh3gT8e2v"
      },
      "source": [
        "---"
      ]
    },
    {
      "cell_type": "markdown",
      "metadata": {
        "id": "beqi04HLTqjF"
      },
      "source": [
        "### How To Submit The Project\n",
        "\n",
        "Follow the steps described below to submit the project.\n",
        "\n",
        "1. After finishing the project, click on the **Share** button on the top right corner of the notebook. A new dialog box will appear.\n",
        "\n",
        "  <img src='https://student-datasets-bucket.s3.ap-south-1.amazonaws.com/images/project-share-images/2_share_button.png' width=500>\n",
        "\n",
        "2. In the dialog box, click on the **Copy link** button.\n",
        "\n",
        "   <img src='https://student-datasets-bucket.s3.ap-south-1.amazonaws.com/images/project-share-images/3_copy_link.png' width=500>\n",
        "\n",
        "\n",
        "3. The link of the duplicate copy (named as **YYYY-MM-DD_StudentName_CapstoneProject1**) of the notebook will get copied\n",
        "\n",
        "   <img src='https://student-datasets-bucket.s3.ap-south-1.amazonaws.com/images/project-share-images/4_copy_link_confirmation.png' width=500>\n",
        "\n",
        "4. Go to your dashboard and click on the **My Projects** option.\n",
        "\n",
        "   <img src='https://student-datasets-bucket.s3.ap-south-1.amazonaws.com/images/project-share-images/5_student_dashboard.png' width=800>\n",
        "\n",
        "   <img src='https://student-datasets-bucket.s3.ap-south-1.amazonaws.com/images/project-share-images/6_my_projects.png' width=800>\n",
        "\n",
        "5. Click on the **View Project** button for the project you want to submit.\n",
        "\n",
        "   <img src='https://student-datasets-bucket.s3.ap-south-1.amazonaws.com/images/project-share-images/7_view_project.png' width=800>\n",
        "\n",
        "6. Click on the **Submit Project Here** button.\n",
        "\n",
        "   <img src='https://student-datasets-bucket.s3.ap-south-1.amazonaws.com/images/project-share-images/8_submit_project.png' width=800>\n",
        "\n",
        "7. Paste the link to the project file named as **YYYY-MM-DD_StudentName_CapstoneProject1** in the URL box and then click on the **Submit** button.\n",
        "\n",
        "   <img src='https://student-datasets-bucket.s3.ap-south-1.amazonaws.com/images/project-share-images/9_enter_project_url.png' width=800>\n"
      ]
    },
    {
      "cell_type": "markdown",
      "metadata": {
        "id": "k5zf2QT0TsHe"
      },
      "source": [
        "---"
      ]
    }
  ]
}